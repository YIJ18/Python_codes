{
 "cells": [
  {
   "cell_type": "code",
   "execution_count": 2,
   "id": "87091431-ffca-4860-afa5-9d5241c1433e",
   "metadata": {},
   "outputs": [],
   "source": [
    "import pandas as pd"
   ]
  },
  {
   "cell_type": "code",
   "execution_count": 4,
   "id": "6377510b-15c6-4e3e-a311-c88441075d61",
   "metadata": {},
   "outputs": [],
   "source": [
    "data = {'Nombre': ['Ana', 'Luis', 'Carlos'], 'Edad': [23, 45, 31]}"
   ]
  },
  {
   "cell_type": "code",
   "execution_count": 6,
   "id": "c93e2722-faf3-4d15-a7f9-2dcd5ef1e262",
   "metadata": {},
   "outputs": [],
   "source": [
    "df = pd.DataFrame(data)"
   ]
  },
  {
   "cell_type": "code",
   "execution_count": 8,
   "id": "946dd66e-5d1f-440e-8696-3fe23011b0e7",
   "metadata": {},
   "outputs": [
    {
     "name": "stdout",
     "output_type": "stream",
     "text": [
      "   Nombre  Edad\n",
      "0     Ana    23\n",
      "1    Luis    45\n",
      "2  Carlos    31\n"
     ]
    }
   ],
   "source": [
    "print(df)"
   ]
  },
  {
   "cell_type": "code",
   "execution_count": 12,
   "id": "4e08cae9-e002-4a96-a64a-b0c4a259d9bb",
   "metadata": {},
   "outputs": [],
   "source": [
    "df = pd.read_csv('grades.csv')"
   ]
  },
  {
   "cell_type": "code",
   "execution_count": 14,
   "id": "ea67941e-f61c-46dd-808e-ca44d195f29f",
   "metadata": {},
   "outputs": [
    {
     "name": "stdout",
     "output_type": "stream",
     "text": [
      "   exam  student_id  grade\n",
      "0     1           1   86.0\n",
      "1     1           2   65.0\n",
      "2     1           3   70.0\n",
      "3     1           4   98.0\n",
      "4     1           5   89.0\n"
     ]
    }
   ],
   "source": [
    "print(df.head())"
   ]
  },
  {
   "cell_type": "code",
   "execution_count": 24,
   "id": "8d9a2ef0-74f4-4530-bc49-3833bd01066c",
   "metadata": {},
   "outputs": [],
   "source": [
    "filtro = df[df['grade'] < 60]"
   ]
  },
  {
   "cell_type": "raw",
   "id": "8d8ec4da-1518-4e34-9431-2de1585b46ed",
   "metadata": {},
   "source": [
    "print(filtro)"
   ]
  },
  {
   "cell_type": "code",
   "execution_count": 28,
   "id": "4055a014-47d3-493b-93b9-bbc0bed753c4",
   "metadata": {},
   "outputs": [
    {
     "name": "stdout",
     "output_type": "stream",
     "text": [
      "       exam  student_id\n",
      "grade                  \n",
      "56.0      1           1\n",
      "60.0      1           1\n",
      "65.0      1           1\n",
      "70.0      1           1\n",
      "72.0      1           1\n",
      "73.0      1           1\n",
      "75.0      3           3\n",
      "78.0      2           2\n",
      "79.0      1           1\n",
      "80.0      3           3\n",
      "81.0      2           2\n",
      "82.0      2           2\n",
      "83.0      1           1\n",
      "84.0      1           1\n",
      "85.0      1           1\n",
      "86.0      2           2\n",
      "87.0      3           3\n",
      "88.0      1           1\n",
      "89.0      2           2\n",
      "90.0      3           3\n",
      "91.0      1           1\n",
      "92.0      1           1\n",
      "93.0      1           1\n",
      "94.0      1           1\n",
      "95.0      2           2\n",
      "96.0      2           2\n",
      "97.0      1           1\n",
      "98.0      2           2\n",
      "100.0     1           1\n"
     ]
    }
   ],
   "source": [
    "grupos = df.groupby('grade').count()\n",
    "print(grupos)"
   ]
  },
  {
   "cell_type": "code",
   "execution_count": 30,
   "id": "b0137d05-2afb-483e-a4e9-c58e069845a9",
   "metadata": {},
   "outputs": [
    {
     "name": "stdout",
     "output_type": "stream",
     "text": [
      "    exam  student_id  grade  NuevaColumna\n",
      "0      1           1   86.0             2\n",
      "1      1           2   65.0             2\n",
      "2      1           3   70.0             2\n",
      "3      1           4   98.0             2\n",
      "4      1           5   89.0             2\n",
      "5      1           6    NaN             2\n",
      "6      1           7   75.0             2\n",
      "7      1           8   56.0             2\n",
      "8      1           9   90.0             2\n",
      "9      1          10   81.0             2\n",
      "10     2           1   79.0             4\n",
      "11     2           2   60.0             4\n",
      "12     2           3   78.0             4\n",
      "13     2           4   75.0             4\n",
      "14     2           5    NaN             4\n",
      "15     2           6   80.0             4\n",
      "16     2           7   87.0             4\n",
      "17     2           8   82.0             4\n",
      "18     2           9   95.0             4\n",
      "19     2          10   96.0             4\n",
      "20     3           1   78.0             6\n",
      "21     3           2   80.0             6\n",
      "22     3           3   87.0             6\n",
      "23     3           4    NaN             6\n",
      "24     3           5   89.0             6\n",
      "25     3           6   90.0             6\n",
      "26     3           7  100.0             6\n",
      "27     3           8   72.0             6\n",
      "28     3           9   73.0             6\n",
      "29     3          10   75.0             6\n",
      "30     4           1    NaN             8\n",
      "31     4           2   80.0             8\n",
      "32     4           3   81.0             8\n",
      "33     4           4   82.0             8\n",
      "34     4           5   83.0             8\n",
      "35     4           6   84.0             8\n",
      "36     4           7   85.0             8\n",
      "37     4           8   86.0             8\n",
      "38     4           9   87.0             8\n",
      "39     4          10   88.0             8\n",
      "40     5           1   90.0            10\n",
      "41     5           2    NaN            10\n",
      "42     5           3   91.0            10\n",
      "43     5           4   92.0            10\n",
      "44     5           5   93.0            10\n",
      "45     5           6   94.0            10\n",
      "46     5           7   95.0            10\n",
      "47     5           8   96.0            10\n",
      "48     5           9   97.0            10\n",
      "49     5          10   98.0            10\n"
     ]
    }
   ],
   "source": [
    "df['NuevaColumna'] = df['exam'] * 2\n",
    "print(df)"
   ]
  },
  {
   "cell_type": "code",
   "execution_count": 32,
   "id": "0d902da6-f924-48e7-a1b0-b28af34984c4",
   "metadata": {},
   "outputs": [
    {
     "name": "stdout",
     "output_type": "stream",
     "text": [
      "    exam  student_id  grade  NuevaColumna\n",
      "0      1           1   86.0             2\n",
      "1      1           2   65.0             2\n",
      "2      1           3   70.0             2\n",
      "3      1           4   98.0             2\n",
      "4      1           5   89.0             2\n",
      "5      1           6    0.0             2\n",
      "6      1           7   75.0             2\n",
      "7      1           8   56.0             2\n",
      "8      1           9   90.0             2\n",
      "9      1          10   81.0             2\n",
      "10     2           1   79.0             4\n",
      "11     2           2   60.0             4\n",
      "12     2           3   78.0             4\n",
      "13     2           4   75.0             4\n",
      "14     2           5    0.0             4\n",
      "15     2           6   80.0             4\n",
      "16     2           7   87.0             4\n",
      "17     2           8   82.0             4\n",
      "18     2           9   95.0             4\n",
      "19     2          10   96.0             4\n",
      "20     3           1   78.0             6\n",
      "21     3           2   80.0             6\n",
      "22     3           3   87.0             6\n",
      "23     3           4    0.0             6\n",
      "24     3           5   89.0             6\n",
      "25     3           6   90.0             6\n",
      "26     3           7  100.0             6\n",
      "27     3           8   72.0             6\n",
      "28     3           9   73.0             6\n",
      "29     3          10   75.0             6\n",
      "30     4           1    0.0             8\n",
      "31     4           2   80.0             8\n",
      "32     4           3   81.0             8\n",
      "33     4           4   82.0             8\n",
      "34     4           5   83.0             8\n",
      "35     4           6   84.0             8\n",
      "36     4           7   85.0             8\n",
      "37     4           8   86.0             8\n",
      "38     4           9   87.0             8\n",
      "39     4          10   88.0             8\n",
      "40     5           1   90.0            10\n",
      "41     5           2    0.0            10\n",
      "42     5           3   91.0            10\n",
      "43     5           4   92.0            10\n",
      "44     5           5   93.0            10\n",
      "45     5           6   94.0            10\n",
      "46     5           7   95.0            10\n",
      "47     5           8   96.0            10\n",
      "48     5           9   97.0            10\n",
      "49     5          10   98.0            10\n"
     ]
    }
   ],
   "source": [
    "df = df.fillna(0)\n",
    "print(df)"
   ]
  },
  {
   "cell_type": "code",
   "execution_count": null,
   "id": "ce16d82d-3065-47f7-8b42-f4d104c1a740",
   "metadata": {},
   "outputs": [],
   "source": []
  }
 ],
 "metadata": {
  "kernelspec": {
   "display_name": "Python [conda env:base] *",
   "language": "python",
   "name": "conda-base-py"
  },
  "language_info": {
   "codemirror_mode": {
    "name": "ipython",
    "version": 3
   },
   "file_extension": ".py",
   "mimetype": "text/x-python",
   "name": "python",
   "nbconvert_exporter": "python",
   "pygments_lexer": "ipython3",
   "version": "3.12.7"
  }
 },
 "nbformat": 4,
 "nbformat_minor": 5
}
